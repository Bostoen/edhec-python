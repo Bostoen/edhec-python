{
 "cells": [
  {
   "cell_type": "markdown",
   "metadata": {},
   "source": [
    "# Tutorial \n",
    "\n",
    "## I.Option pricing\n",
    "\n",
    "This notebook will introduce the typical usage of our pricer. First we import the *functions.py* where all the computational methods are. This file also import the data structures used.\n"
   ]
  },
  {
   "cell_type": "code",
   "execution_count": 91,
   "metadata": {},
   "outputs": [],
   "source": [
    "from functions import *\n",
    "\n",
    "np.random.seed(4)"
   ]
  },
  {
   "cell_type": "markdown",
   "metadata": {},
   "source": [
    "First, we create an underlying stock. Let's use Apple: we set the price at \\\\$120 and volatility at 30%"
   ]
  },
  {
   "cell_type": "code",
   "execution_count": 92,
   "metadata": {},
   "outputs": [],
   "source": [
    "aapl = Stock(120, 0.3)"
   ]
  },
  {
   "cell_type": "markdown",
   "metadata": {},
   "source": [
    "Now let's make a call on Apple expiring in 4 weeks (20 business days), $5 out of the money."
   ]
  },
  {
   "cell_type": "code",
   "execution_count": 93,
   "metadata": {},
   "outputs": [],
   "source": [
    "aapl_call = Call(aapl, 125, 20)"
   ]
  },
  {
   "cell_type": "markdown",
   "metadata": {},
   "source": [
    "We use monte carlo to price this option, with a riskfree rate of 3% (by default, we run 10^4 Monte Carlo iterations)"
   ]
  },
  {
   "cell_type": "code",
   "execution_count": 94,
   "metadata": {},
   "outputs": [
    {
     "name": "stdout",
     "output_type": "stream",
     "text": [
      "Call price via MC: 2.1373066105347003\n"
     ]
    }
   ],
   "source": [
    "call_price = monte_carlo(aapl_call, riskfree=0.03)\n",
    "print(\"Call price via MC: \" + str(call_price))"
   ]
  },
  {
   "cell_type": "markdown",
   "metadata": {},
   "source": [
    "To check our result, we price the same option with the closed form Black-Scholes model"
   ]
  },
  {
   "cell_type": "code",
   "execution_count": 95,
   "metadata": {},
   "outputs": [
    {
     "name": "stdout",
     "output_type": "stream",
     "text": [
      "Call price via BS: 2.19177301300855\n",
      "Absolute Error: 0.0544664 \n",
      "Relative Error: 2.49%\n"
     ]
    }
   ],
   "source": [
    "d1 = (np.log(aapl.price/aapl_call.strike) + (0.03 + 0.5*aapl.vol**2)*aapl_call.dte/252)\\\n",
    "     / (aapl.vol*np.sqrt(aapl_call.dte/252))\n",
    "d2 = d1-aapl.vol*np.sqrt(aapl_call.dte/252)\n",
    "call_price_bs = aapl.price*stats.norm.cdf(d1, 0.0, 1.0) - aapl_call.strike * np.exp(-0.03*aapl_call.dte/252)\\\n",
    "                *stats.norm.cdf(d2, 0.0, 1.0)\n",
    "print(\"Call price via BS: \" + str(call_price_bs))\n",
    "error = abs(call_price-call_price_bs)\n",
    "error_rel = error/call_price_bs*100\n",
    "print(\"Absolute Error: \" + str(round(error,8)) + \" \\nRelative Error: \" + str(round(error_rel, 2)) + \"%\")"
   ]
  },
  {
   "cell_type": "markdown",
   "metadata": {},
   "source": [
    "## II. Strategy pricing\n",
    "We can price some exotic options as well: let's try a binary put on apple, strike at 110 in 4 weeks with a payout of $1."
   ]
  },
  {
   "cell_type": "code",
   "execution_count": 96,
   "metadata": {},
   "outputs": [
    {
     "name": "stdout",
     "output_type": "stream",
     "text": [
      "Binary put price: 0.16271212860156625\n"
     ]
    }
   ],
   "source": [
    "aapl_binary = BinaryPut(aapl, 110, 20, notional=1)\n",
    "binary_price = monte_carlo(aapl_binary, riskfree=0.03)\n",
    "print(\"Binary put price: \" + str(binary_price))"
   ]
  },
  {
   "cell_type": "markdown",
   "metadata": {},
   "source": [
    "One step further: let's create a barrier option. We start from our apple call, and turn it into an up-and-out option by adding a knockout barrier at \\\\$135. Intuition tells us that since this barrier severely caps out upside, this new option should be cheaper than our original call."
   ]
  },
  {
   "cell_type": "code",
   "execution_count": 97,
   "metadata": {},
   "outputs": [
    {
     "name": "stdout",
     "output_type": "stream",
     "text": [
      "Up-and-out barrier call price: 0.7010342724231537\n"
     ]
    }
   ],
   "source": [
    "aapl_barrier = BarrierUpOut(aapl_call, 135)\n",
    "barrier_price = monte_carlo(aapl_barrier, riskfree=0.03)\n",
    "print(\"Up-and-out barrier call price: \" + str(barrier_price))"
   ]
  },
  {
   "cell_type": "markdown",
   "metadata": {},
   "source": [
    "Finally, let's build some strategies. As an example, we create a long call butterfly on Apple. This strategy consists of four legs: an ITM long call, two ATM short calls and an OTM long call."
   ]
  },
  {
   "cell_type": "code",
   "execution_count": 98,
   "metadata": {},
   "outputs": [
    {
     "data": {
      "text/plain": [
       "True"
      ]
     },
     "execution_count": 98,
     "metadata": {},
     "output_type": "execute_result"
    }
   ],
   "source": [
    "aapl_butterfly = Strategy(aapl)\n",
    "aapl_butterfly.add_leg(Call(aapl, 110, 20))                 # ITM Long leg\n",
    "aapl_butterfly.add_leg(Call(aapl, 120, 20), is_short=True)  # ATM Short leg\n",
    "aapl_butterfly.add_leg(Call(aapl, 120, 20), is_short=True)  # ATM Short leg\n",
    "aapl_butterfly.add_leg(Call(aapl, 130, 20))                 # OTM Long leg"
   ]
  },
  {
   "cell_type": "markdown",
   "metadata": {},
   "source": [
    "Because the long call butterfly is a net debit position, we expect its price to be positive."
   ]
  },
  {
   "cell_type": "code",
   "execution_count": 99,
   "metadata": {},
   "outputs": [
    {
     "name": "stdout",
     "output_type": "stream",
     "text": [
      "Long call butterfly price: 3.6031035549125336\n"
     ]
    }
   ],
   "source": [
    "butterfly_price = monte_carlo_strategy(aapl_butterfly, riskfree=0.03)\n",
    "print(\"Long call butterfly price: \" + str(butterfly_price))"
   ]
  },
  {
   "cell_type": "markdown",
   "metadata": {},
   "source": [
    "This value is reasonably accurate, at time of writing (with apple at \\\\$119.) this butterfly costs ~\\\\$3.8.\n",
    "\n",
    "One more test: let us check the in-out parity of barrier options. The combination of an in and an out barrier option with otherwise identical characteristics should be equal to a vanilla option."
   ]
  },
  {
   "cell_type": "code",
   "execution_count": 100,
   "metadata": {},
   "outputs": [
    {
     "name": "stdout",
     "output_type": "stream",
     "text": [
      "In-out combo price: 2.1202206543925906\n",
      "Difference with vanilla option: 0.017085956142109726\n"
     ]
    }
   ],
   "source": [
    "in_out_parity = Strategy(aapl)\n",
    "in_out_parity.add_leg(BarrierUpIn(aapl_call, 130))\n",
    "in_out_parity.add_leg(BarrierUpOut(aapl_call, 130))\n",
    "parity_price = monte_carlo_strategy(in_out_parity, riskfree=0.03)\n",
    "print(\"In-out combo price: \" + str(parity_price))\n",
    "print(\"Difference with vanilla option: \" + str(abs(parity_price-call_price)))"
   ]
  },
  {
   "cell_type": "markdown",
   "metadata": {},
   "source": [
    "This difference is just the expected monte-carlo error."
   ]
  }
 ],
 "metadata": {
  "kernelspec": {
   "display_name": "Python 3",
   "language": "python",
   "name": "python3"
  },
  "language_info": {
   "codemirror_mode": {
    "name": "ipython",
    "version": 3
   },
   "file_extension": ".py",
   "mimetype": "text/x-python",
   "name": "python",
   "nbconvert_exporter": "python",
   "pygments_lexer": "ipython3",
   "version": "3.7.8"
  }
 },
 "nbformat": 4,
 "nbformat_minor": 4
}
